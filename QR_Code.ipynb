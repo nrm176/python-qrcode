{
  "nbformat": 4,
  "nbformat_minor": 0,
  "metadata": {
    "colab": {
      "name": "QR_Code.ipynb",
      "provenance": [],
      "collapsed_sections": [],
      "authorship_tag": "ABX9TyPkPO80T0Cu/1+M3/Ptn/UV",
      "include_colab_link": true
    },
    "kernelspec": {
      "name": "python3",
      "display_name": "Python 3"
    }
  },
  "cells": [
    {
      "cell_type": "markdown",
      "metadata": {
        "id": "view-in-github",
        "colab_type": "text"
      },
      "source": [
        "<a href=\"https://colab.research.google.com/github/nrm176/python-qrcode/blob/master/QR_Code.ipynb\" target=\"_parent\"><img src=\"https://colab.research.google.com/assets/colab-badge.svg\" alt=\"Open In Colab\"/></a>"
      ]
    },
    {
      "cell_type": "code",
      "metadata": {
        "id": "GUgY20Ihd871",
        "colab_type": "code",
        "colab": {}
      },
      "source": [
        "!pip install qrcode\n",
        "!pip install pillow\n",
        "\n",
        "# https://pypi.org/project/qrcode/"
      ],
      "execution_count": null,
      "outputs": []
    },
    {
      "cell_type": "code",
      "metadata": {
        "id": "5lXXQWTmeU4C",
        "colab_type": "code",
        "colab": {}
      },
      "source": [
        "from google.colab import drive\n",
        "drive.mount('/content/drive')"
      ],
      "execution_count": null,
      "outputs": []
    },
    {
      "cell_type": "code",
      "metadata": {
        "id": "BBSO4fsivy4S",
        "colab_type": "code",
        "colab": {}
      },
      "source": [
        "input = '' #@param {type:\"string\"}"
      ],
      "execution_count": 18,
      "outputs": []
    },
    {
      "cell_type": "code",
      "metadata": {
        "id": "P-mB9akUeGDj",
        "colab_type": "code",
        "colab": {}
      },
      "source": [
        "import qrcode\n",
        "\n",
        "def validate(input):\n",
        "  if input:\n",
        "    return True\n",
        "  raise ValueError(\"Please check your input\")\n",
        "\n",
        "qr = qrcode.QRCode(\n",
        "    version=1,\n",
        "    error_correction=qrcode.constants.ERROR_CORRECT_L,\n",
        "    box_size=10,\n",
        "    border=4,\n",
        ")\n",
        "if validate(input):\n",
        "  qr.add_data(input)\n",
        "  qr.make(fit=True)\n",
        "  img = qr.make_image(fill_color=\"black\", back_color=\"white\")\n",
        "  print(type(img))\n",
        "  print(img.size)\n",
        "  img.save('/content/drive/My Drive/Colab Notebooks/QR/images/test.png')"
      ],
      "execution_count": null,
      "outputs": []
    },
    {
      "cell_type": "code",
      "metadata": {
        "id": "894ZHALBv9oM",
        "colab_type": "code",
        "colab": {}
      },
      "source": [
        ""
      ],
      "execution_count": null,
      "outputs": []
    }
  ]
}